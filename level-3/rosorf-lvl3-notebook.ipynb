{
 "cells": [
  {
   "cell_type": "markdown",
   "metadata": {},
   "source": [
    "# ros-orf level 3\n",
    "\n",
    "**Performance and usability**\n",
    "\n",
    "In ros-orf level 2, where I created a program to find putative ORFs, I just focused on writting functions that could acheive the objectives. In level 3, I want to re-think how the code is written and organized, with the goal of improving both performance and usability. This means learning about better coding practices, project organization, modularity, making python files executable in the command line...\n",
    "\n",
    "In terms of improving performance, I already know this will take me through learning how to make use of numpy arrays, polars (instead of pandas), biopython seqrecords and avoiding overuse of python loops... And in terms of usabilitiy, through organizing code into python files to be used as modules or as scripts, and argument parsing.\n",
    "\n",
    "Ongoing to-do list:\n",
    "\n",
    "- [ ] Reorganize functions into .py files to be used as modules and store them in packages.\n",
    "- [ ] Improve functions: incorporate Numpy arrays and Biopython SeqRecords.\n",
    "- [ ] Make functions more modular: e.g., it does not make sense to have three separate fasta writing functions for DNA, RNA and proteins.\n",
    "- [ ] Test modifications -- see `benchm-ros-orf-level-3.ipynb`\n",
    "- [ ] Final scripts for ros-orf program: python version and bash version"
   ]
  },
  {
   "cell_type": "markdown",
   "metadata": {},
   "source": [
    "### Trying to improve performance:\n",
    "\n",
    "| Original function | Modifications |\n",
    "| -------- | ------------ |\n",
    "| `fasta_parser` | Instead of generating a dictionary of the parsed sequences, keep them as SeqRecords |\n",
    "| `orf_finder` | Minimize nested python loops and instead make use of numpy arrays. Introduce polars instead of pandas |\n",
    "| `orf_data_collector` | Use polars instead of pandas. Minimize nested python loops and instead make use of packages. Re-introduce the 'Overlaps' |\n",
    "| `orf_dna_fasta_generator` | Collapse into a single function that writes DNA, RNA or peptide sequences from SeqRecords |\n",
    "| `orf_mrna_fasta_generator` | Collapse into a single function that writes DNA, RNA or peptide sequences from SeqRecords |\n",
    "| `orf_peptide_fasta_generator` | Collapse into a single function that writes DNA, RNA or peptide sequences from SeqRecords |\n",
    "\n",
    "### Trying to improve usability:\n",
    "- Store functions in packages, so that they can be imported as modules into scripts where the code is executed\n",
    "- Make functions as modular as possible (examples: module to check for 'Overlaps' should be its own thing, orf_data_collector should be more flexible in terms of choosing what data you want, make a generic fasta_writer function for SeqRecords)\n",
    "- Use conda environments - maybe even install the packages in the environment?\n",
    "- Enable functions to be ran through the bash command line\n"
   ]
  }
 ],
 "metadata": {
  "kernelspec": {
   "display_name": "base",
   "language": "python",
   "name": "python3"
  },
  "language_info": {
   "codemirror_mode": {
    "name": "ipython",
    "version": 3
   },
   "file_extension": ".py",
   "mimetype": "text/x-python",
   "name": "python",
   "nbconvert_exporter": "python",
   "pygments_lexer": "ipython3",
   "version": "3.12.5"
  }
 },
 "nbformat": 4,
 "nbformat_minor": 2
}
